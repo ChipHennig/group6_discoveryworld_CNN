{
 "cells": [
  {
   "cell_type": "markdown",
   "metadata": {},
   "source": [
    "# CS 3310 Notebook"
   ]
  },
  {
   "cell_type": "markdown",
   "metadata": {},
   "source": [
    "__Install needed libraries__"
   ]
  },
  {
   "cell_type": "code",
   "execution_count": 1,
   "metadata": {},
   "outputs": [
    {
     "name": "stdout",
     "output_type": "stream",
     "text": [
      "Requirement already up-to-date: tensorflow in /home/lumayer/.local/lib/python3.7/site-packages (2.4.1)\n",
      "Requirement already satisfied, skipping upgrade: flatbuffers~=1.12.0 in /home/lumayer/.local/lib/python3.7/site-packages (from tensorflow) (1.12)\n",
      "Requirement already satisfied, skipping upgrade: gast==0.3.3 in /home/lumayer/.local/lib/python3.7/site-packages (from tensorflow) (0.3.3)\n",
      "Requirement already satisfied, skipping upgrade: keras-preprocessing~=1.1.2 in /usr/local/anaconda3/lib/python3.7/site-packages (from tensorflow) (1.1.2)\n",
      "Requirement already satisfied, skipping upgrade: astunparse~=1.6.3 in /home/lumayer/.local/lib/python3.7/site-packages (from tensorflow) (1.6.3)\n",
      "Requirement already satisfied, skipping upgrade: h5py~=2.10.0 in /home/lumayer/.local/lib/python3.7/site-packages (from tensorflow) (2.10.0)\n",
      "Requirement already satisfied, skipping upgrade: wrapt~=1.12.1 in /home/lumayer/.local/lib/python3.7/site-packages (from tensorflow) (1.12.1)\n",
      "Requirement already satisfied, skipping upgrade: tensorboard~=2.4 in /home/lumayer/.local/lib/python3.7/site-packages (from tensorflow) (2.4.1)\n",
      "Requirement already satisfied, skipping upgrade: grpcio~=1.32.0 in /home/lumayer/.local/lib/python3.7/site-packages (from tensorflow) (1.32.0)\n",
      "Requirement already satisfied, skipping upgrade: protobuf>=3.9.2 in /usr/local/anaconda3/lib/python3.7/site-packages (from tensorflow) (3.14.0)\n",
      "Requirement already satisfied, skipping upgrade: six~=1.15.0 in /home/lumayer/.local/lib/python3.7/site-packages (from tensorflow) (1.15.0)\n",
      "Requirement already satisfied, skipping upgrade: absl-py~=0.10 in /usr/local/anaconda3/lib/python3.7/site-packages (from tensorflow) (0.11.0)\n",
      "Requirement already satisfied, skipping upgrade: opt-einsum~=3.3.0 in /home/lumayer/.local/lib/python3.7/site-packages (from tensorflow) (3.3.0)\n",
      "Requirement already satisfied, skipping upgrade: google-pasta~=0.2 in /usr/local/anaconda3/lib/python3.7/site-packages (from tensorflow) (0.2.0)\n",
      "Requirement already satisfied, skipping upgrade: typing-extensions~=3.7.4 in /home/lumayer/.local/lib/python3.7/site-packages (from tensorflow) (3.7.4.3)\n",
      "Requirement already satisfied, skipping upgrade: numpy~=1.19.2 in /home/lumayer/.local/lib/python3.7/site-packages (from tensorflow) (1.19.5)\n",
      "Requirement already satisfied, skipping upgrade: wheel~=0.35 in /home/lumayer/.local/lib/python3.7/site-packages (from tensorflow) (0.36.2)\n",
      "Requirement already satisfied, skipping upgrade: termcolor~=1.1.0 in /usr/local/anaconda3/lib/python3.7/site-packages (from tensorflow) (1.1.0)\n",
      "Requirement already satisfied, skipping upgrade: tensorflow-estimator<2.5.0,>=2.4.0 in /home/lumayer/.local/lib/python3.7/site-packages (from tensorflow) (2.4.0)\n",
      "Requirement already satisfied, skipping upgrade: setuptools>=41.0.0 in /usr/local/anaconda3/lib/python3.7/site-packages (from tensorboard~=2.4->tensorflow) (41.0.1)\n",
      "Requirement already satisfied, skipping upgrade: google-auth-oauthlib<0.5,>=0.4.1 in /home/lumayer/.local/lib/python3.7/site-packages (from tensorboard~=2.4->tensorflow) (0.4.4)\n",
      "Requirement already satisfied, skipping upgrade: requests<3,>=2.21.0 in /usr/local/anaconda3/lib/python3.7/site-packages (from tensorboard~=2.4->tensorflow) (2.22.0)\n",
      "Requirement already satisfied, skipping upgrade: werkzeug>=0.11.15 in /usr/local/anaconda3/lib/python3.7/site-packages (from tensorboard~=2.4->tensorflow) (0.15.4)\n",
      "Requirement already satisfied, skipping upgrade: tensorboard-plugin-wit>=1.6.0 in /home/lumayer/.local/lib/python3.7/site-packages (from tensorboard~=2.4->tensorflow) (1.8.0)\n",
      "Requirement already satisfied, skipping upgrade: google-auth<2,>=1.6.3 in /home/lumayer/.local/lib/python3.7/site-packages (from tensorboard~=2.4->tensorflow) (1.28.0)\n",
      "Requirement already satisfied, skipping upgrade: markdown>=2.6.8 in /usr/local/anaconda3/lib/python3.7/site-packages (from tensorboard~=2.4->tensorflow) (3.3.4)\n",
      "Requirement already satisfied, skipping upgrade: requests-oauthlib>=0.7.0 in /home/lumayer/.local/lib/python3.7/site-packages (from google-auth-oauthlib<0.5,>=0.4.1->tensorboard~=2.4->tensorflow) (1.3.0)\n",
      "Requirement already satisfied, skipping upgrade: urllib3!=1.25.0,!=1.25.1,<1.26,>=1.21.1 in /usr/local/anaconda3/lib/python3.7/site-packages (from requests<3,>=2.21.0->tensorboard~=2.4->tensorflow) (1.24.2)\n",
      "Requirement already satisfied, skipping upgrade: certifi>=2017.4.17 in /usr/local/anaconda3/lib/python3.7/site-packages (from requests<3,>=2.21.0->tensorboard~=2.4->tensorflow) (2019.6.16)\n",
      "Requirement already satisfied, skipping upgrade: chardet<3.1.0,>=3.0.2 in /usr/local/anaconda3/lib/python3.7/site-packages (from requests<3,>=2.21.0->tensorboard~=2.4->tensorflow) (3.0.4)\n",
      "Requirement already satisfied, skipping upgrade: idna<2.9,>=2.5 in /usr/local/anaconda3/lib/python3.7/site-packages (from requests<3,>=2.21.0->tensorboard~=2.4->tensorflow) (2.8)\n",
      "Requirement already satisfied, skipping upgrade: rsa<5,>=3.1.4; python_version >= \"3.6\" in /home/lumayer/.local/lib/python3.7/site-packages (from google-auth<2,>=1.6.3->tensorboard~=2.4->tensorflow) (4.7.2)\n",
      "Requirement already satisfied, skipping upgrade: cachetools<5.0,>=2.0.0 in /home/lumayer/.local/lib/python3.7/site-packages (from google-auth<2,>=1.6.3->tensorboard~=2.4->tensorflow) (4.2.1)\n",
      "Requirement already satisfied, skipping upgrade: pyasn1-modules>=0.2.1 in /home/lumayer/.local/lib/python3.7/site-packages (from google-auth<2,>=1.6.3->tensorboard~=2.4->tensorflow) (0.2.8)\n",
      "Requirement already satisfied, skipping upgrade: importlib-metadata; python_version < \"3.8\" in /usr/local/anaconda3/lib/python3.7/site-packages (from markdown>=2.6.8->tensorboard~=2.4->tensorflow) (2.0.0)\n",
      "Requirement already satisfied, skipping upgrade: oauthlib>=3.0.0 in /home/lumayer/.local/lib/python3.7/site-packages (from requests-oauthlib>=0.7.0->google-auth-oauthlib<0.5,>=0.4.1->tensorboard~=2.4->tensorflow) (3.1.0)\n",
      "Requirement already satisfied, skipping upgrade: pyasn1>=0.1.3 in /home/lumayer/.local/lib/python3.7/site-packages (from rsa<5,>=3.1.4; python_version >= \"3.6\"->google-auth<2,>=1.6.3->tensorboard~=2.4->tensorflow) (0.4.8)\n",
      "Requirement already satisfied, skipping upgrade: zipp>=0.5 in /usr/local/anaconda3/lib/python3.7/site-packages (from importlib-metadata; python_version < \"3.8\"->markdown>=2.6.8->tensorboard~=2.4->tensorflow) (0.5.1)\n",
      "Requirement already satisfied: keras==2.3.0 in /home/lumayer/.local/lib/python3.7/site-packages (2.3.0)\n",
      "Requirement already satisfied: numpy>=1.9.1 in /home/lumayer/.local/lib/python3.7/site-packages (from keras==2.3.0) (1.19.5)\n",
      "Requirement already satisfied: six>=1.9.0 in /home/lumayer/.local/lib/python3.7/site-packages (from keras==2.3.0) (1.15.0)\n",
      "Requirement already satisfied: scipy>=0.14 in /usr/local/anaconda3/lib/python3.7/site-packages (from keras==2.3.0) (1.3.0)\n",
      "Requirement already satisfied: keras-applications>=1.0.6 in /usr/local/anaconda3/lib/python3.7/site-packages (from keras==2.3.0) (1.0.8)\n",
      "Requirement already satisfied: pyyaml in /usr/local/anaconda3/lib/python3.7/site-packages (from keras==2.3.0) (5.1.1)\n",
      "Requirement already satisfied: h5py in /home/lumayer/.local/lib/python3.7/site-packages (from keras==2.3.0) (2.10.0)\n",
      "Requirement already satisfied: keras-preprocessing>=1.0.5 in /usr/local/anaconda3/lib/python3.7/site-packages (from keras==2.3.0) (1.1.2)\n"
     ]
    }
   ],
   "source": [
    "!pip install tensorflow --upgrade --user\n",
    "!pip install keras==2.3.0 --user"
   ]
  },
  {
   "cell_type": "markdown",
   "metadata": {},
   "source": [
    "__Import needed libraries__"
   ]
  },
  {
   "cell_type": "code",
   "execution_count": 2,
   "metadata": {},
   "outputs": [],
   "source": [
    "import pandas as pd\n",
    "import numpy as np\n",
    "import matplotlib.pyplot as plt\n",
    "from pathlib import Path\n",
    "from PIL import Image\n",
    "import uuid\n",
    "import random"
   ]
  },
  {
   "cell_type": "markdown",
   "metadata": {},
   "source": [
    "__Make sure the folder layout looks as follows:__\n",
    "- YourFolder\n",
    "    - trian.csv"
   ]
  },
  {
   "cell_type": "code",
   "execution_count": 3,
   "metadata": {},
   "outputs": [],
   "source": [
    "# Map that maps the integer value contained in the csvs to the corresponding emotion.\n",
    "# See https://www.kaggle.com/c/challenges-in-representation-learning-facial-expression-recognition-challenge/data \n",
    "# to see where these values came from.\n",
    "emotion_map = {\n",
    "      0: \"Angry\",\n",
    "      1: \"Disgust\",\n",
    "      2: \"Fear\",\n",
    "      3: \"Happy\",\n",
    "      4: \"Sad\",\n",
    "      5: \"Surprise\",\n",
    "      6: \"Neutral\"         \n",
    "}"
   ]
  },
  {
   "cell_type": "code",
   "execution_count": 2,
   "metadata": {},
   "outputs": [],
   "source": [
    "\n",
    "def read_data(input_path):\n",
    "    \"\"\"\n",
    "    Reads in data from a csv file and returns a list of tuples, where the first value in the tuple is an integer in \n",
    "    the range [0, 6] which represents an emotion, and a 48x48 array of integers which represent grayscale intensities. \n",
    "\n",
    "    @param input_path Relative path to the csv file to read data from.\n",
    "    \"\"\"\n",
    "    \n",
    "    data = pd.read_csv(input_path)\n",
    "    data_tuples = []\n",
    "    \n",
    "    for _, row in data.iterrows():\n",
    "        \n",
    "        emotion = emotion_map[row[\"emotion\"]]\n",
    "        \n",
    "        # Probs not efficient way to map but oh well\n",
    "        intensity_array = np.array(list(map(lambda it: int(it), row[\"pixels\"].split(\" \")))).reshape((48, 48))\n",
    "        \n",
    "        data_tuples.append((emotion, intensity_array))\n",
    "        \n",
    "    return data_tuples"
   ]
  },
  {
   "cell_type": "code",
   "execution_count": 3,
   "metadata": {},
   "outputs": [],
   "source": [
    "def write_images(data_tuples, split_name):\n",
    "\n",
    "    \"\"\"\n",
    "    Takes a list of tuples where the first element is an emotion and the second is an intensity array, and creates \n",
    "    a file structure that tensorflow can read from. \n",
    "    \n",
    "    See https://towardsdatascience.com/keras-data-generators-and-how-to-use-them-b69129ed779c to see what the file\n",
    "    structure looks like.\n",
    "\n",
    "    @param data_tuples list of (emotion, intensities) tuples.\n",
    "    @param split_name The name to save the data set under. Ex: Train, Validation, Test\n",
    "    \"\"\"\n",
    "    \n",
    "    # Initialize folder for each emotion.\n",
    "    for value in emotion_map.values():\n",
    "        Path(f\"./data/{split_name}/{value}\").mkdir(parents=True, exist_ok=True)\n",
    "\n",
    "    for emotion, intensities in data_tuples:\n",
    "\n",
    "        # Reference: https://stackoverflow.com/questions/37558523/converting-2d-numpy-array-of-grayscale-values-to-a-pil-image\n",
    "        image = Image.fromarray(np.uint8(intensities), 'L')\n",
    "        \n",
    "        # Save image with name being an UUID so it is unique.\n",
    "        image.save(f\"./data/{split_name}/{emotion}/{uuid.uuid4()}.png\")"
   ]
  },
  {
   "cell_type": "code",
   "execution_count": 6,
   "metadata": {},
   "outputs": [],
   "source": [
    "def write_image_sets(data_tuples):\n",
    "    \"\"\"\n",
    "    Takes a single list of tuples (emotion, intensities) and randomly splits them into a training, validation, and\n",
    "    test categories. The images in these categories are then written to disk. See `write_images` for this process. \n",
    "    \"\"\"\n",
    "\n",
    "    data_tuples = read_data(\"train.csv\")\n",
    "    random.shuffle(data_tuples)\n",
    "\n",
    "    # TODO Probs could be done by some keras function and look cleaner.\n",
    "    validation_index_start = int(len(data_tuples)*0.6)\n",
    "    test_index_start = int(len(data_tuples)*0.8)\n",
    "\n",
    "    # 60-20-20 split\n",
    "    training_split = data_tuples[0: validation_index_start]\n",
    "    validation_split = data_tuples[validation_index_start: test_index_start]\n",
    "    test_split = data_tuples[test_index_start:]\n",
    "\n",
    "    write_images(training_split, \"train\")\n",
    "    write_images(validation_split, \"validation\")\n",
    "    write_images(test_split, \"test\")"
   ]
  },
  {
   "cell_type": "code",
   "execution_count": 7,
   "metadata": {},
   "outputs": [],
   "source": [
    "# Only uncomment and run if images have not yet been created\n",
    "#write_image_sets(read_data(\"train.csv\"))"
   ]
  },
  {
   "cell_type": "markdown",
   "metadata": {},
   "source": [
    "__Convenience function for visualizing images and their labels in our training set.__\n",
    "TODO Change"
   ]
  },
  {
   "cell_type": "code",
   "execution_count": 8,
   "metadata": {},
   "outputs": [],
   "source": [
    "\"\"\"\n",
    "Displays a chart showing an image given a tuple where the first element is an integer representing the emotion class, and the \n",
    "second element is a 2d array of grayscale intensities ranging from 0 to 255.\n",
    "\"\"\"\n",
    "def display_image(data_tuple):\n",
    "\n",
    "    plt.imshow(data_tuple[1], cmap=\"gray\", vmin=0, vmax=255)\n",
    "    plt.title(emotion_map[data_tuple[0]])\n",
    "    plt.show()"
   ]
  },
  {
   "cell_type": "markdown",
   "metadata": {},
   "source": [
    "Visualize some of our images below"
   ]
  },
  {
   "cell_type": "markdown",
   "metadata": {},
   "source": [
    "Below block creates CNN that we will be using. Possibly replace with pretrained architecture in the future."
   ]
  },
  {
   "cell_type": "code",
   "execution_count": 15,
   "metadata": {},
   "outputs": [],
   "source": [
    "# TODO move to top or something. Include the !pip keras thing in that cell as well. \n",
    "from tensorflow.keras.layers import Dense, Input, Dropout, GlobalAveragePooling2D, Flatten, Conv2D, BatchNormalization, Activation, MaxPooling2D\n",
    "from tensorflow.keras.models import Model\n",
    "from tensorflow.keras.optimizers import Adam\n",
    "from tensorflow.keras import Sequential\n",
    "from tensorflow.keras.layers import Conv2D, Flatten, Dense"
   ]
  },
  {
   "cell_type": "code",
   "execution_count": 16,
   "metadata": {},
   "outputs": [],
   "source": [
    "\n",
    "# number of possible label values\n",
    "nb_classes = 7\n",
    "\n",
    "# Initialising the CNN\n",
    "model = Sequential()\n",
    "\n",
    "# 1 - Convolution\n",
    "model.add(Conv2D(64,(3,3), padding='same', input_shape=(48, 48,1)))\n",
    "model.add(BatchNormalization())\n",
    "model.add(Activation('relu'))\n",
    "model.add(MaxPooling2D(pool_size=(2, 2)))\n",
    "model.add(Dropout(0.25))\n",
    "\n",
    "# 2nd Convolution layer\n",
    "model.add(Conv2D(128,(5,5), padding='same'))\n",
    "model.add(BatchNormalization())\n",
    "model.add(Activation('relu'))\n",
    "model.add(MaxPooling2D(pool_size=(2, 2)))\n",
    "model.add(Dropout(0.25))\n",
    "\n",
    "# 3rd Convolution layer\n",
    "model.add(Conv2D(512,(3,3), padding='same'))\n",
    "model.add(BatchNormalization())\n",
    "model.add(Activation('relu'))\n",
    "model.add(MaxPooling2D(pool_size=(2, 2)))\n",
    "model.add(Dropout(0.25))\n",
    "\n",
    "# 4th Convolution layer\n",
    "model.add(Conv2D(512,(3,3), padding='same'))\n",
    "model.add(BatchNormalization())\n",
    "model.add(Activation('relu'))\n",
    "model.add(MaxPooling2D(pool_size=(2, 2)))\n",
    "model.add(Dropout(0.25))\n",
    "\n",
    "# Flattening\n",
    "model.add(Flatten())\n",
    "\n",
    "# Fully connected layer 1st layer\n",
    "model.add(Dense(256))\n",
    "model.add(BatchNormalization())\n",
    "model.add(Activation('relu'))\n",
    "model.add(Dropout(0.25))\n",
    "\n",
    "# Fully connected layer 2nd layer\n",
    "model.add(Dense(512))\n",
    "model.add(BatchNormalization())\n",
    "model.add(Activation('relu'))\n",
    "model.add(Dropout(0.25))\n",
    "\n",
    "model.add(Dense(nb_classes, activation='softmax'))\n",
    "\n",
    "opt = Adam(lr=0.0001)\n",
    "model.compile(optimizer=opt, loss='categorical_crossentropy', metrics=['accuracy'])"
   ]
  },
  {
   "cell_type": "code",
   "execution_count": 17,
   "metadata": {},
   "outputs": [
    {
     "name": "stdout",
     "output_type": "stream",
     "text": [
      "Found 17225 images belonging to 7 classes.\n",
      "Found 5742 images belonging to 7 classes.\n"
     ]
    }
   ],
   "source": [
    "from keras.preprocessing.image import ImageDataGenerator\n",
    "\n",
    "# number of images to feed into the NN for every batch\n",
    "batch_size = 128\n",
    "\n",
    "datagen_train = ImageDataGenerator()\n",
    "datagen_validation = ImageDataGenerator()\n",
    "\n",
    "train_generator = datagen_train.flow_from_directory(\"./data/train\",\n",
    "                                                    target_size=(48,48),\n",
    "                                                    color_mode=\"grayscale\",\n",
    "                                                    batch_size=batch_size,\n",
    "                                                    class_mode='categorical',\n",
    "                                                    shuffle=True)\n",
    "\n",
    "validation_generator = datagen_validation.flow_from_directory(\"./data/validation\",\n",
    "                                                    target_size=(48,48),\n",
    "                                                    color_mode=\"grayscale\",\n",
    "                                                    batch_size=batch_size,\n",
    "                                                    class_mode='categorical',\n",
    "                                                    shuffle=False)"
   ]
  },
  {
   "cell_type": "code",
   "execution_count": 18,
   "metadata": {},
   "outputs": [
    {
     "name": "stderr",
     "output_type": "stream",
     "text": [
      "/home/lumayer/.local/lib/python3.7/site-packages/tensorflow/python/keras/engine/training.py:1844: UserWarning: `Model.fit_generator` is deprecated and will be removed in a future version. Please use `Model.fit`, which supports generators.\n",
      "  warnings.warn('`Model.fit_generator` is deprecated and '\n"
     ]
    },
    {
     "name": "stdout",
     "output_type": "stream",
     "text": [
      "Epoch 1/50\n",
      "134/134 [==============================] - 160s 1s/step - loss: 2.2196 - accuracy: 0.1859 - val_loss: 1.8181 - val_accuracy: 0.2559\n",
      "Epoch 2/50\n"
     ]
    },
    {
     "name": "stderr",
     "output_type": "stream",
     "text": [
      "/home/lumayer/.local/lib/python3.7/site-packages/keras/callbacks/callbacks.py:707: RuntimeWarning: Can save best model only with val_acc available, skipping.\n",
      "  'skipping.' % (self.monitor), RuntimeWarning)\n"
     ]
    },
    {
     "name": "stdout",
     "output_type": "stream",
     "text": [
      "134/134 [==============================] - 157s 1s/step - loss: 1.9274 - accuracy: 0.2495 - val_loss: 1.7130 - val_accuracy: 0.3068\n",
      "Epoch 3/50\n",
      "134/134 [==============================] - 157s 1s/step - loss: 1.8365 - accuracy: 0.2860 - val_loss: 1.6942 - val_accuracy: 0.3285\n",
      "Epoch 4/50\n",
      "134/134 [==============================] - 156s 1s/step - loss: 1.7727 - accuracy: 0.3199 - val_loss: 1.7224 - val_accuracy: 0.3377\n",
      "Epoch 5/50\n",
      "134/134 [==============================] - 157s 1s/step - loss: 1.7224 - accuracy: 0.3373 - val_loss: 1.8128 - val_accuracy: 0.3391\n",
      "Epoch 6/50\n",
      "134/134 [==============================] - 156s 1s/step - loss: 1.6612 - accuracy: 0.3681 - val_loss: 1.6636 - val_accuracy: 0.3707\n",
      "Epoch 7/50\n",
      "134/134 [==============================] - 157s 1s/step - loss: 1.6281 - accuracy: 0.3720 - val_loss: 1.7031 - val_accuracy: 0.3713\n",
      "Epoch 8/50\n",
      "134/134 [==============================] - 156s 1s/step - loss: 1.5895 - accuracy: 0.3872 - val_loss: 1.6080 - val_accuracy: 0.4059\n",
      "Epoch 9/50\n",
      "134/134 [==============================] - 156s 1s/step - loss: 1.5447 - accuracy: 0.4065 - val_loss: 1.5151 - val_accuracy: 0.4183\n",
      "Epoch 10/50\n",
      "134/134 [==============================] - 157s 1s/step - loss: 1.5095 - accuracy: 0.4233 - val_loss: 1.5501 - val_accuracy: 0.4100\n",
      "Epoch 11/50\n",
      "134/134 [==============================] - 156s 1s/step - loss: 1.4687 - accuracy: 0.4356 - val_loss: 1.4727 - val_accuracy: 0.4315\n",
      "Epoch 12/50\n",
      "134/134 [==============================] - 157s 1s/step - loss: 1.4392 - accuracy: 0.4447 - val_loss: 1.4203 - val_accuracy: 0.4563\n",
      "Epoch 13/50\n",
      "134/134 [==============================] - 157s 1s/step - loss: 1.4188 - accuracy: 0.4577 - val_loss: 1.3817 - val_accuracy: 0.4647\n",
      "Epoch 14/50\n",
      "134/134 [==============================] - 156s 1s/step - loss: 1.3837 - accuracy: 0.4614 - val_loss: 1.3725 - val_accuracy: 0.4725\n",
      "Epoch 15/50\n",
      "134/134 [==============================] - 157s 1s/step - loss: 1.3430 - accuracy: 0.4903 - val_loss: 1.4000 - val_accuracy: 0.4739\n",
      "Epoch 16/50\n",
      "134/134 [==============================] - 157s 1s/step - loss: 1.3336 - accuracy: 0.4960 - val_loss: 1.3387 - val_accuracy: 0.4890\n",
      "Epoch 17/50\n",
      "134/134 [==============================] - 158s 1s/step - loss: 1.2939 - accuracy: 0.5080 - val_loss: 1.4844 - val_accuracy: 0.4423\n",
      "Epoch 18/50\n",
      "134/134 [==============================] - 156s 1s/step - loss: 1.2851 - accuracy: 0.5019 - val_loss: 1.3200 - val_accuracy: 0.4888\n",
      "Epoch 19/50\n",
      "134/134 [==============================] - 158s 1s/step - loss: 1.2525 - accuracy: 0.5230 - val_loss: 1.3426 - val_accuracy: 0.4982\n",
      "Epoch 20/50\n",
      "134/134 [==============================] - 156s 1s/step - loss: 1.2299 - accuracy: 0.5390 - val_loss: 1.2867 - val_accuracy: 0.5050\n",
      "Epoch 21/50\n",
      "134/134 [==============================] - 157s 1s/step - loss: 1.2192 - accuracy: 0.5345 - val_loss: 1.3487 - val_accuracy: 0.5018\n",
      "Epoch 22/50\n",
      "134/134 [==============================] - 157s 1s/step - loss: 1.2091 - accuracy: 0.5445 - val_loss: 1.2685 - val_accuracy: 0.5186\n",
      "Epoch 23/50\n",
      "134/134 [==============================] - 158s 1s/step - loss: 1.1754 - accuracy: 0.5568 - val_loss: 1.2637 - val_accuracy: 0.5176\n",
      "Epoch 24/50\n",
      "134/134 [==============================] - 157s 1s/step - loss: 1.1516 - accuracy: 0.5651 - val_loss: 1.2540 - val_accuracy: 0.5261\n",
      "Epoch 25/50\n",
      "134/134 [==============================] - 157s 1s/step - loss: 1.1463 - accuracy: 0.5673 - val_loss: 1.2477 - val_accuracy: 0.5186\n",
      "Epoch 26/50\n",
      "134/134 [==============================] - 158s 1s/step - loss: 1.1262 - accuracy: 0.5697 - val_loss: 1.2204 - val_accuracy: 0.5291\n",
      "Epoch 27/50\n",
      "134/134 [==============================] - 157s 1s/step - loss: 1.1132 - accuracy: 0.5832 - val_loss: 1.2069 - val_accuracy: 0.5400\n",
      "Epoch 28/50\n",
      "134/134 [==============================] - 158s 1s/step - loss: 1.0992 - accuracy: 0.5820 - val_loss: 1.1960 - val_accuracy: 0.5366\n",
      "Epoch 29/50\n",
      "134/134 [==============================] - 158s 1s/step - loss: 1.0867 - accuracy: 0.5856 - val_loss: 1.2053 - val_accuracy: 0.5437\n",
      "Epoch 30/50\n",
      "134/134 [==============================] - 158s 1s/step - loss: 1.0585 - accuracy: 0.6026 - val_loss: 1.1975 - val_accuracy: 0.5494\n",
      "Epoch 31/50\n",
      "134/134 [==============================] - 158s 1s/step - loss: 1.0517 - accuracy: 0.5965 - val_loss: 1.1812 - val_accuracy: 0.5517\n",
      "Epoch 32/50\n",
      "134/134 [==============================] - 157s 1s/step - loss: 1.0346 - accuracy: 0.6071 - val_loss: 1.1959 - val_accuracy: 0.5518\n",
      "Epoch 33/50\n",
      "134/134 [==============================] - 159s 1s/step - loss: 0.9996 - accuracy: 0.6261 - val_loss: 1.1972 - val_accuracy: 0.5467\n",
      "Epoch 34/50\n",
      "134/134 [==============================] - 160s 1s/step - loss: 0.9894 - accuracy: 0.6264 - val_loss: 1.1689 - val_accuracy: 0.5676\n",
      "Epoch 35/50\n",
      "134/134 [==============================] - 157s 1s/step - loss: 0.9845 - accuracy: 0.6337 - val_loss: 1.2044 - val_accuracy: 0.5511\n",
      "Epoch 36/50\n",
      "134/134 [==============================] - 159s 1s/step - loss: 0.9841 - accuracy: 0.6340 - val_loss: 1.1921 - val_accuracy: 0.5574\n",
      "Epoch 37/50\n",
      "134/134 [==============================] - 157s 1s/step - loss: 0.9513 - accuracy: 0.6485 - val_loss: 1.1693 - val_accuracy: 0.5643\n",
      "Epoch 38/50\n",
      "134/134 [==============================] - 157s 1s/step - loss: 0.9369 - accuracy: 0.6503 - val_loss: 1.2107 - val_accuracy: 0.5430\n",
      "Epoch 39/50\n",
      "134/134 [==============================] - 158s 1s/step - loss: 0.9292 - accuracy: 0.6497 - val_loss: 1.1496 - val_accuracy: 0.5732\n",
      "Epoch 40/50\n",
      "134/134 [==============================] - 158s 1s/step - loss: 0.9125 - accuracy: 0.6572 - val_loss: 1.2323 - val_accuracy: 0.5382\n",
      "Epoch 41/50\n",
      "134/134 [==============================] - 158s 1s/step - loss: 0.8992 - accuracy: 0.6649 - val_loss: 1.2183 - val_accuracy: 0.5588\n",
      "Epoch 42/50\n",
      "134/134 [==============================] - 158s 1s/step - loss: 0.8663 - accuracy: 0.6770 - val_loss: 1.1874 - val_accuracy: 0.5621\n",
      "Epoch 43/50\n",
      "134/134 [==============================] - 158s 1s/step - loss: 0.8657 - accuracy: 0.6741 - val_loss: 1.1906 - val_accuracy: 0.5588\n",
      "Epoch 44/50\n",
      "134/134 [==============================] - 159s 1s/step - loss: 0.8308 - accuracy: 0.6875 - val_loss: 1.1600 - val_accuracy: 0.5687\n",
      "Epoch 45/50\n",
      "134/134 [==============================] - 158s 1s/step - loss: 0.8215 - accuracy: 0.6869 - val_loss: 1.1599 - val_accuracy: 0.5714\n",
      "Epoch 46/50\n",
      "134/134 [==============================] - 158s 1s/step - loss: 0.8258 - accuracy: 0.6868 - val_loss: 1.1787 - val_accuracy: 0.5753\n",
      "Epoch 47/50\n",
      "134/134 [==============================] - 158s 1s/step - loss: 0.7999 - accuracy: 0.7008 - val_loss: 1.1955 - val_accuracy: 0.5739\n",
      "Epoch 48/50\n",
      "134/134 [==============================] - 158s 1s/step - loss: 0.7800 - accuracy: 0.7103 - val_loss: 1.2554 - val_accuracy: 0.5584\n",
      "Epoch 49/50\n",
      "134/134 [==============================] - 158s 1s/step - loss: 0.7740 - accuracy: 0.7114 - val_loss: 1.1887 - val_accuracy: 0.5700\n",
      "Epoch 50/50\n",
      "134/134 [==============================] - 158s 1s/step - loss: 0.7803 - accuracy: 0.7118 - val_loss: 1.1776 - val_accuracy: 0.5762\n"
     ]
    }
   ],
   "source": [
    "# number of epochs to train the NN\n",
    "epochs = 50\n",
    "\n",
    "from keras.callbacks import ModelCheckpoint\n",
    "\n",
    "checkpoint = ModelCheckpoint(\"model_weights.h5\", monitor='val_acc', verbose=1, save_best_only=True, mode='max')\n",
    "callbacks_list = [checkpoint]\n",
    "\n",
    "history = model.fit_generator(generator=train_generator,\n",
    "                                steps_per_epoch=train_generator.n//train_generator.batch_size,\n",
    "                                epochs=epochs,\n",
    "                                validation_data = validation_generator,\n",
    "                                validation_steps = validation_generator.n//validation_generator.batch_size,\n",
    "                                callbacks=callbacks_list\n",
    "                                )"
   ]
  },
  {
   "cell_type": "code",
   "execution_count": 19,
   "metadata": {},
   "outputs": [],
   "source": [
    "# serialize model structure to JSON\n",
    "model_json = model.to_json()\n",
    "with open(\"model.json\", \"w\") as json_file:\n",
    "    json_file.write(model_json)"
   ]
  },
  {
   "cell_type": "code",
   "execution_count": 21,
   "metadata": {},
   "outputs": [
    {
     "data": {
      "image/png": "[encoded data removed]",
      "text/plain": [
       "<Figure size 1440x720 with 2 Axes>"
      ]
     },
     "metadata": {
      "needs_background": "light"
     },
     "output_type": "display_data"
    }
   ],
   "source": [
    "# plot the evolution of Loss and Acuracy on the train and validation sets\n",
    "\n",
    "import matplotlib.pyplot as plt\n",
    "\n",
    "plt.figure(figsize=(20,10))\n",
    "plt.subplot(1, 2, 1)\n",
    "plt.suptitle('Optimizer : Adam', fontsize=10)\n",
    "plt.ylabel('Loss', fontsize=16)\n",
    "plt.plot(history.history['loss'], label='Training Loss')\n",
    "plt.plot(history.history['val_loss'], label='Validation Loss')\n",
    "plt.legend(loc='upper right')\n",
    "\n",
    "plt.subplot(1, 2, 2)\n",
    "plt.ylabel('Accuracy', fontsize=16)\n",
    "plt.plot(history.history['accuracy'], label='Training Accuracy')\n",
    "plt.plot(history.history['val_accuracy'], label='Validation Accuracy')\n",
    "plt.legend(loc='lower right')\n",
    "plt.show()"
   ]
  },
  {
   "cell_type": "markdown",
   "metadata": {},
   "source": [
    "### TODO: Havent touched anything down below yet."
   ]
  },
  {
   "cell_type": "code",
   "execution_count": 1,
   "metadata": {},
   "outputs": [
    {
     "ename": "NameError",
     "evalue": "name 'model' is not defined",
     "output_type": "error",
     "traceback": [
      "\u001b[0;31m---------------------------------------------------------------------------\u001b[0m",
      "\u001b[0;31mNameError\u001b[0m                                 Traceback (most recent call last)",
      "\u001b[0;32m<ipython-input-1-225d16c8ca7d>\u001b[0m in \u001b[0;36m<module>\u001b[0;34m\u001b[0m\n\u001b[1;32m      2\u001b[0m \u001b[0;34m\u001b[0m\u001b[0m\n\u001b[1;32m      3\u001b[0m \u001b[0;31m# compute predictions\u001b[0m\u001b[0;34m\u001b[0m\u001b[0;34m\u001b[0m\u001b[0;34m\u001b[0m\u001b[0m\n\u001b[0;32m----> 4\u001b[0;31m \u001b[0mpredictions\u001b[0m \u001b[0;34m=\u001b[0m \u001b[0mmodel\u001b[0m\u001b[0;34m.\u001b[0m\u001b[0mpredict_generator\u001b[0m\u001b[0;34m(\u001b[0m\u001b[0mgenerator\u001b[0m\u001b[0;34m=\u001b[0m\u001b[0mvalidation_generator\u001b[0m\u001b[0;34m)\u001b[0m\u001b[0;34m\u001b[0m\u001b[0;34m\u001b[0m\u001b[0m\n\u001b[0m\u001b[1;32m      5\u001b[0m \u001b[0my_pred\u001b[0m \u001b[0;34m=\u001b[0m \u001b[0;34m[\u001b[0m\u001b[0mnp\u001b[0m\u001b[0;34m.\u001b[0m\u001b[0margmax\u001b[0m\u001b[0;34m(\u001b[0m\u001b[0mprobas\u001b[0m\u001b[0;34m)\u001b[0m \u001b[0;32mfor\u001b[0m \u001b[0mprobas\u001b[0m \u001b[0;32min\u001b[0m \u001b[0mpredictions\u001b[0m\u001b[0;34m]\u001b[0m\u001b[0;34m\u001b[0m\u001b[0;34m\u001b[0m\u001b[0m\n\u001b[1;32m      6\u001b[0m \u001b[0my_test\u001b[0m \u001b[0;34m=\u001b[0m \u001b[0mvalidation_generator\u001b[0m\u001b[0;34m.\u001b[0m\u001b[0mclasses\u001b[0m\u001b[0;34m\u001b[0m\u001b[0;34m\u001b[0m\u001b[0m\n",
      "\u001b[0;31mNameError\u001b[0m: name 'model' is not defined"
     ]
    }
   ],
   "source": [
    "# show the confusion matrix of our predictions\n",
    "\n",
    "# compute predictions\n",
    "predictions = model.predict_generator(generator=validation_generator)\n",
    "y_pred = [np.argmax(probas) for probas in predictions]\n",
    "y_test = validation_generator.classes\n",
    "class_names = validation_generator.class_indices.keys()\n",
    "\n",
    "from sklearn.metrics import confusion_matrix\n",
    "import itertools\n",
    "\n",
    "def plot_confusion_matrix(cm, classes, title='Confusion matrix', cmap=plt.cm.Blues):\n",
    "    cm = cm.astype('float') / cm.sum(axis=1)[:, np.newaxis]\n",
    "    plt.figure(figsize=(10,10))\n",
    "    plt.imshow(cm, interpolation='nearest', cmap=cmap)\n",
    "    plt.title(title)\n",
    "    plt.colorbar()\n",
    "    tick_marks = np.arange(len(classes))\n",
    "    plt.xticks(tick_marks, classes, rotation=45)\n",
    "    plt.yticks(tick_marks, classes)\n",
    "\n",
    "    fmt = '.2f'\n",
    "    thresh = cm.max() / 2.\n",
    "    for i, j in itertools.product(range(cm.shape[0]), range(cm.shape[1])):\n",
    "        plt.text(j, i, format(cm[i, j], fmt),\n",
    "                 horizontalalignment=\"center\",\n",
    "                 color=\"white\" if cm[i, j] > thresh else \"black\")\n",
    "\n",
    "    plt.ylabel('True label')\n",
    "    plt.xlabel('Predicted label')\n",
    "    plt.tight_layout()\n",
    "    \n",
    "# compute confusion matrix\n",
    "cnf_matrix = confusion_matrix(y_test, y_pred)\n",
    "np.set_printoptions(precision=2)\n",
    "\n",
    "# plot normalized confusion matrix\n",
    "plt.figure()\n",
    "plot_confusion_matrix(cnf_matrix, classes=class_names, title='Normalized confusion matrix')\n",
    "plt.show()"
   ]
  },
  {
   "cell_type": "code",
   "execution_count": 0,
   "metadata": {},
   "outputs": [],
   "source": []
  },
  {
   "cell_type": "code",
   "execution_count": 0,
   "metadata": {},
   "outputs": [],
   "source": []
  },
  {
   "cell_type": "code",
   "execution_count": 0,
   "metadata": {},
   "outputs": [],
   "source": []
  }
 ],
 "metadata": {
  "kernelspec": {
   "display_name": "Python 3",
   "language": "python",
   "name": "python3"
  },
  "language_info": {
   "codemirror_mode": {
    "name": "ipython",
    "version": 3
   },
   "file_extension": ".py",
   "mimetype": "text/x-python",
   "name": "python",
   "nbconvert_exporter": "python",
   "pygments_lexer": "ipython3",
   "version": "3.7.3"
  }
 },
 "nbformat": 4,
 "nbformat_minor": 1
}
