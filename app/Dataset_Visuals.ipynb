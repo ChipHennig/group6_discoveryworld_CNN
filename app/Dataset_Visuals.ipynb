{
 "cells": [
  {
   "cell_type": "code",
   "execution_count": null,
   "metadata": {},
   "outputs": [],
   "source": [
    "!pip install tensorflow --upgrade --user\n",
    "!pip install keras==2.3.0 --user\n",
    "!pip install imutils --user\n",
    "!pip install opencv-python --user\n",
    "!pip install torchvision --user"
   ]
  },
  {
   "cell_type": "code",
   "execution_count": null,
   "metadata": {},
   "outputs": [],
   "source": [
    "import matplotlib.pyplot as plt\n",
    "import matplotlib.image as mpimg\n",
    "import random\n",
    "import numpy as np\n",
    "import cv2\n",
    "from tensorflow.keras.preprocessing.image import load_img\n",
    "import seaborn as sns\n",
    "\n",
    "\n",
    "# read cached daa used to have emotions as the last word, the other function names may change\n",
    "from preliminary_caching import has_cached_emotions, cache_emotions, read_cached_data\n",
    "from face_extractor import get_face_bounding_boxes, extract_faces"
   ]
  },
  {
   "cell_type": "code",
   "execution_count": null,
   "metadata": {},
   "outputs": [],
   "source": [
    "train_data = read_cached_data(\"train\")\n",
    "validation_data = read_cached_data(\"validation\")"
   ]
  },
  {
   "cell_type": "code",
   "execution_count": null,
   "metadata": {},
   "outputs": [],
   "source": [
    "def heatmap(data,labels_x, labels_y,title, title_x,title_y):\n",
    "    f = plt.figure()\n",
    "    f.set_figwidth(2*len(labels_x))\n",
    "    f.set_figheight(len(labels_y))\n",
    "    ax = sns.heatmap(data,annot = True, xticklabels=labels_x, yticklabels=labels_y)\n",
    "    plt.title(title, fontsize = 20)\n",
    "    plt.xlabel(title_x, fontsize = 15) \n",
    "    plt.ylabel(title_y, fontsize = 15) \n",
    "    plt.xticks(rotation = 45)\n",
    "    plt.yticks(rotation = 45)\n",
    "    plt.show()\n",
    "    \n",
    "def bar(data,labels,title, title_x,title_y):\n",
    "    plt.bar(data, labels)\n",
    "    plt.title(title, fontsize = 20)\n",
    "    plt.xlabel(title_x, fontsize = 15) \n",
    "    plt.ylabel(title_y, fontsize = 15) \n",
    "    plt.xticks(rotation = 45)\n",
    "    plt.show()\n",
    "\n",
    "def stacked_barchart(data, labels_x, labels_y,title, title_x,title_y):\n",
    "    figure = plt.figure()\n",
    "    figure.set_figwidth(10)\n",
    "    figure.set_figheight(10)\n",
    "    xloc = np.arange(len(labels_x))\n",
    "    plt.xticks(xloc,labels_x)\n",
    "    legend = []\n",
    "    bottom = np.zeros(len(labels_x))\n",
    "    for i in range(data.shape[0]):\n",
    "        p = plt.bar(xloc,data[i],bottom = bottom, width = 0.5)\n",
    "        bottom += data[i]\n",
    "        legend.append(p[0])\n",
    "    plt.legend(legend,labels_y)\n",
    "    plt.title(title, fontsize = 20)\n",
    "    plt.xlabel(title_x, fontsize = 15) \n",
    "    plt.ylabel(title_y, fontsize = 15) \n",
    "    plt.show()"
   ]
  },
  {
   "cell_type": "code",
   "execution_count": null,
   "metadata": {},
   "outputs": [],
   "source": [
    "# emotions vs race is being shown in the next 2 figures, race is on the bottom axis\n",
    "emotions = [\"neutral\",\"happiness\",\"sadness\",\"surprise\",\"sad\",\"disgust\",\"angry\",\"contempt\"]\n",
    "race4 = [\"White\",\"Black\",\"Asian\",\"Indian\"]\n",
    "train_race_emotions = np.zeros((8,4))\n",
    "train_races = np.zeros(4)\n",
    "train_emotions = np.zeros(8)\n",
    "\n",
    "for key,val in train_data.items():\n",
    "    emotion = val[\"emotion\"]\n",
    "    if emotion <8:\n",
    "        race = val[\"race\"]\n",
    "        train_race_emotions[emotion,race] += 1\n",
    "        train_races[race] += 1\n",
    "        train_emotions[emotion] += 1\n",
    "\n",
    "heatmap(train_race_emotions, race4,emotions,\"Emotions by race\", \"Race\", \"Emotion\")"
   ]
  },
  {
   "cell_type": "code",
   "execution_count": null,
   "metadata": {},
   "outputs": [],
   "source": [
    "stacked_barchart(train_race_emotions,race4,emotions,\"Emotions by Race\", \"Race\", \"Count\")"
   ]
  },
  {
   "cell_type": "code",
   "execution_count": null,
   "metadata": {},
   "outputs": [],
   "source": [
    "stacked_barchart(train_race_emotions.T,emotions,race4,\"Race by Emotion\", \"Emotion\", \"Count\")"
   ]
  },
  {
   "cell_type": "code",
   "execution_count": null,
   "metadata": {},
   "outputs": [],
   "source": [
    "bar(emotions,train_emotions,\"Emotions in Training Set\", \"Emotion\", \"Count\")"
   ]
  },
  {
   "cell_type": "code",
   "execution_count": null,
   "metadata": {},
   "outputs": [],
   "source": [
    "bar(race4,train_races,\"Races in Training Set\", \"Race\", \"Count\")"
   ]
  },
  {
   "cell_type": "code",
   "execution_count": null,
   "metadata": {},
   "outputs": [],
   "source": [
    "a = 10\n",
    "g = 2\n",
    "r = 7\n",
    "e = 8\n",
    "val_race_emotions = np.zeros((e,r))\n",
    "val_gender_emotions = np.zeros((e,g))\n",
    "val_age_emotions = np.zeros((e,a))\n",
    "val_age_genders = np.zeros((g,a))\n",
    "val_age_races = np.zeros((r,a))\n",
    "val_race_genders = np.zeros((g,r))\n",
    "val_races = np.zeros(r)\n",
    "val_emotions = np.zeros(e)\n",
    "val_genders = np.zeros(g)\n",
    "val_ages = np.zeros(a)\n",
    "race7 = ['White','Black','Latino_Hispanic','East Asian','Southeast Asian','Indian','Middle Eastern']\n",
    "genders = [\"Male\",\"Female\"]\n",
    "ages = [\"0-9\",\"10-19\",\"20-29\",\"30-39\",\"40-49\",\"50-59\",\"60-69\",\"70-79\",\"80-89\",\"90-99\"]\n",
    "for val in validation_data.values():\n",
    "    emotion = val[\"emotion\"]\n",
    "    if emotion <8:\n",
    "        race = val[\"race\"]\n",
    "        age = val[\"age\"]\n",
    "        gender = val[\"gender\"]\n",
    "        val_race_emotions[emotion,race] += 1\n",
    "        val_races[race] += 1\n",
    "        val_emotions[emotion] += 1\n",
    "        val_genders[gender]+=1\n",
    "        val_ages[age]+=1\n",
    "        val_gender_emotions[emotion,gender] +=1\n",
    "        val_age_emotions[emotion,age] +=1\n",
    "        val_age_genders[gender,age]+=1\n",
    "        val_age_races[race,age]+=1\n",
    "        val_race_genders[gender,race]+=1\n",
    "heatmap(val_race_emotions, race7,emotions,\"Emotions by race\", \"Race\", \"Emotion\")"
   ]
  },
  {
   "cell_type": "code",
   "execution_count": null,
   "metadata": {},
   "outputs": [],
   "source": [
    "stacked_barchart(val_race_emotions,race7,emotions,\"Emotions by race\", \"Race\", \"Count\")"
   ]
  },
  {
   "cell_type": "code",
   "execution_count": null,
   "metadata": {},
   "outputs": [],
   "source": [
    "stacked_barchart(val_race_emotions.T,emotions,race7,\"Races by Emotion\", \"Emotion\", \"Count\")"
   ]
  },
  {
   "cell_type": "code",
   "execution_count": null,
   "metadata": {},
   "outputs": [],
   "source": [
    "heatmap(val_gender_emotions, genders,emotions,\"Emotions by Gender\", \"Gender\", \"Emotion\")"
   ]
  },
  {
   "cell_type": "code",
   "execution_count": null,
   "metadata": {},
   "outputs": [],
   "source": [
    "heatmap(val_age_emotions, ages,emotions,\"Emotions by Age\", \"Age\", \"Emotion\")"
   ]
  },
  {
   "cell_type": "code",
   "execution_count": null,
   "metadata": {},
   "outputs": [],
   "source": [
    "bar(emotions,val_emotions,\"Emotions in Validation Set\", \"Emotion\", \"Count\")"
   ]
  },
  {
   "cell_type": "code",
   "execution_count": null,
   "metadata": {},
   "outputs": [],
   "source": [
    "bar(genders,val_genders,\"Genders in Validation Set\", \"Gender\", \"Count\")"
   ]
  },
  {
   "cell_type": "code",
   "execution_count": null,
   "metadata": {
    "scrolled": true
   },
   "outputs": [],
   "source": [
    "bar(ages,val_ages,\"Ages in Validation Set\", \"Age Range\", \"Count\")"
   ]
  },
  {
   "cell_type": "code",
   "execution_count": null,
   "metadata": {},
   "outputs": [],
   "source": [
    "stacked_barchart(val_race_genders,race7,genders,\"Gender by Race\", \"Race\", \"Count\")"
   ]
  },
  {
   "cell_type": "code",
   "execution_count": null,
   "metadata": {},
   "outputs": [],
   "source": [
    "stacked_barchart(val_race_genders.T,genders,race7,\"Race by Gender\", \"Gender\", \"Count\")"
   ]
  },
  {
   "cell_type": "code",
   "execution_count": null,
   "metadata": {},
   "outputs": [],
   "source": [
    "stacked_barchart(val_age_races,ages,race7,\"Race by Age\", \"Age\", \"Count\")"
   ]
  },
  {
   "cell_type": "code",
   "execution_count": null,
   "metadata": {},
   "outputs": [],
   "source": [
    "stacked_barchart(val_age_races.T,race7,ages,\"Age by Race\", \"Race\", \"Count\")"
   ]
  },
  {
   "cell_type": "code",
   "execution_count": null,
   "metadata": {},
   "outputs": [],
   "source": [
    "stacked_barchart(val_age_genders,ages,genders,\"Gender by Age\", \"Age\", \"Count\")"
   ]
  },
  {
   "cell_type": "code",
   "execution_count": null,
   "metadata": {},
   "outputs": [],
   "source": [
    "stacked_barchart(val_age_genders.T,genders,ages,\"Age by Gender\", \"Gender\", \"Count\")"
   ]
  },
  {
   "cell_type": "code",
   "execution_count": null,
   "metadata": {},
   "outputs": [],
   "source": [
    "def display_image(image_id):\n",
    "    \n",
    "    image = mpimg.imread(f\"/data/datasets/affectNet/train_set/images/{image_id}.jpg\")\n",
    "    plt.imshow(image)\n",
    "    plt.show()\n",
    "    \n",
    "def display_face_extraction(image_id):\n",
    "    \n",
    "    image = mpimg.imread(f\"/data/datasets/affectNet/val_set/images/{image_id}.jpg\")\n",
    "    bounds = get_face_bounding_boxes(image, 0.0, 1)\n",
    "    \n",
    "    print(bounds)\n",
    "    extracted_face = extract_faces(image, bounds)[0]\n",
    "    \n",
    "    plt.imshow(extracted_face)\n",
    "    plt.show()\n",
    "display_image(223999)"
   ]
  },
  {
   "cell_type": "code",
   "execution_count": null,
   "metadata": {},
   "outputs": [],
   "source": [
    "import os\n",
    "path = \"/data/datasets/affectNet/train_set/images\"\n",
    "dir_list = os.listdir(path)\n",
    "def get_excluded_image():\n",
    "    for img in dir_list:\n",
    "        if path+\"/\"+img not in train_data:\n",
    "            image = mpimg.imread(path+\"/\"+img)\n",
    "            yield image\n",
    "excluded_image_generator = get_excluded_image()"
   ]
  },
  {
   "cell_type": "code",
   "execution_count": null,
   "metadata": {},
   "outputs": [],
   "source": [
    "image = next(excluded_image_generator)\n",
    "plt.imshow(image)\n",
    "plt.show()"
   ]
  },
  {
   "cell_type": "code",
   "execution_count": null,
   "metadata": {},
   "outputs": [],
   "source": [
    "print(\"validation samples \"+str(len(validation_data)))\n",
    "print(\"training samples \"+str(len(train_data)))\n",
    "avg = 0\n",
    "sum = 0\n",
    "for i in range(len(ages)):\n",
    "    avg += (10*i+5)*val_ages[i]\n",
    "    sum += val_ages[i]\n",
    "avg/=sum\n",
    "print(\"average age \" + str(avg))"
   ]
  }
 ],
 "metadata": {
  "kernelspec": {
   "display_name": "Python 3",
   "language": "python",
   "name": "python3"
  },
  "language_info": {
   "codemirror_mode": {
    "name": "ipython",
    "version": 3
   },
   "file_extension": ".py",
   "mimetype": "text/x-python",
   "name": "python",
   "nbconvert_exporter": "python",
   "pygments_lexer": "ipython3",
   "version": "3.7.3"
  }
 },
 "nbformat": 4,
 "nbformat_minor": 2
}
